{
 "cells": [
  {
   "cell_type": "code",
   "execution_count": 1,
   "id": "fc4e08b2-4f59-40f0-8924-db057c8f9b90",
   "metadata": {
    "scrolled": true
   },
   "outputs": [
    {
     "name": "stdout",
     "output_type": "stream",
     "text": [
      "Sorted by age (ascending): [{'name': 'Bob', 'age': 25, 'city': 'London'}, {'name': 'Alice', 'age': 30, 'city': 'New York'}, {'name': 'Charlie', 'age': 35, 'city': 'Paris'}]\n",
      "Sorted by name (descending): [{'name': 'Charlie', 'age': 35, 'city': 'Paris'}, {'name': 'Bob', 'age': 25, 'city': 'London'}, {'name': 'Alice', 'age': 30, 'city': 'New York'}]\n"
     ]
    }
   ],
   "source": []
  },
  {
   "cell_type": "code",
   "execution_count": null,
   "id": "80e09c5a-ad53-481e-9288-3d4b4f487431",
   "metadata": {},
   "outputs": [],
   "source": [
    "Part 1: Theoretical Analysis (30%)\n",
    "1. Short Answer Questions\n",
    "\n",
    "Q1: Explain how AI-driven code generation tools (e.g., GitHub Copilot) reduce development time. What are their limitations?\n",
    "AI-powered code generation tools like GitHub Copilot assist developers by auto-suggesting entire code blocks, functions, or syntax based on context. They help reduce development time by:\n",
    "\n",
    "Completing repetitive code faster.\n",
    "\n",
    "Reducing time spent on boilerplate or common patterns.\n",
    "\n",
    "Suggesting alternative approaches or syntax for tasks.\n",
    "\n",
    "Assisting with unfamiliar libraries or functions.\n",
    "\n",
    "However, limitations include:\n",
    "\n",
    "Lack of understanding of project context: Suggestions may not align with project architecture or logic.\n",
    "\n",
    "Security and quality risks: Copilot may suggest outdated or vulnerable code from its training data.\n",
    "\n",
    "Code bias: Generated suggestions can reflect biased or suboptimal patterns from public repositories.\n",
    "\n",
    "Over-reliance: Developers might accept suggestions without fully understanding the underlying logic, affecting code quality.\n",
    "\n",
    "Q2: Compare supervised and unsupervised learning in the context of automated bug detection?    \n",
    "In automated bug detection:\n",
    "\n",
    "Supervised Learning:\n",
    "\n",
    "Trained on labeled datasets (e.g., bug vs. clean code).\n",
    "\n",
    "Learns to classify new code based on previously seen patterns.\n",
    "\n",
    "Strengths: High accuracy for known bug types.\n",
    "\n",
    "Limitations: Requires large labeled datasets and cannot detect new/unseen bugs.\n",
    "\n",
    "Unsupervised Learning:\n",
    "\n",
    "Finds anomalies or clusters in code without labels.\n",
    "\n",
    "Can detect outliers that may represent unknown bugs.\n",
    "\n",
    "Strengths: Works with unlabeled data; can flag unusual patterns.\n",
    "\n",
    "Limitations: Higher false positives; harder to interpret results.\n",
    "    \n",
    "Q3: Why is bias mitigation critical when using AI for user experience personalization?\n",
    "\n",
    "Bias in AI personalization can:\n",
    "\n",
    "Reinforce stereotypes (e.g., showing different features based on gender or race).\n",
    "\n",
    "Exclude minority groups from certain experiences or features.\n",
    "\n",
    "Distort recommendations by overrepresenting popular trends while ignoring niche interests.\n",
    "\n",
    "Bias mitigation ensures:\n",
    "\n",
    "Inclusive experiences across diverse users.\n",
    "\n",
    "Fair recommendations based on behavior, not demographics.\n",
    "\n",
    "Legal and ethical compliance (e.g., GDPR, anti-discrimination laws).\n",
    "\n",
    "Tools like fairness indicators, diverse training data, and ethical audits help minimize such biases.\n",
    "\n",
    "2 Case Study Analysis\n",
    "\n",
    "Read the article: AI in DevOps: Automating Deployment Pipelines.\n",
    "Answer: How does AIOps improve software deployment efficiency? Provide two examples?.\n",
    "\n",
    "\n",
    "AIOps (Artificial Intelligence for IT Operations) enhances deployment efficiency by:\n",
    "\n",
    "Monitoring and analyzing logs, metrics, and traces using machine learning.\n",
    "\n",
    "Automating decision-making to detect and fix issues faster.\n",
    "\n",
    "Examples:\n",
    "\n",
    "Automated Failure Detection: AIOps systems detect anomalies in real-time logs during deployment and trigger rollback automatically, preventing downtime.\n",
    "\n",
    "Predictive Scaling: AIOps predicts peak load times and auto-scales infrastructure to meet demand without manual intervention.\n",
    "\n",
    "These capabilities reduce downtime, improve user satisfaction, and increase developer productivity.\n",
    "    "
   ]
  },
  {
   "cell_type": "code",
   "execution_count": 1,
   "id": "ea9d529c-0e04-4ea3-a5d9-1c7438b0661c",
   "metadata": {
    "scrolled": true
   },
   "outputs": [
    {
     "name": "stdout",
     "output_type": "stream",
     "text": [
      "Sorted by age (ascending): [{'name': 'Bob', 'age': 25, 'city': 'London'}, {'name': 'Alice', 'age': 30, 'city': 'New York'}, {'name': 'Charlie', 'age': 35, 'city': 'Paris'}]\n",
      "Sorted by name (descending): [{'name': 'Charlie', 'age': 35, 'city': 'Paris'}, {'name': 'Bob', 'age': 25, 'city': 'London'}, {'name': 'Alice', 'age': 30, 'city': 'New York'}]\n"
     ]
    }
   ],
   "source": [
    "def sort_list_of_dictionaries(list_of_dicts, key_to_sort_by, reverse=False):\n",
    "    \"\"\"\n",
    "    Sorts a list of dictionaries by a specific key.\n",
    "\n",
    "    Args:\n",
    "        list_of_dicts (list): The list of dictionaries to be sorted.\n",
    "        key_to_sort_by (str): The key within each dictionary to sort by.\n",
    "        reverse (bool, optional): If True, sort in descending order. Defaults to False.\n",
    "\n",
    "    Returns:\n",
    "        list: A new sorted list of dictionaries.\n",
    "    \"\"\"\n",
    "    return sorted(list_of_dicts, key=lambda d: d[key_to_sort_by], reverse=reverse)\n",
    "\n",
    "# Example Usage:\n",
    "data = [\n",
    "    {\"name\": \"Alice\", \"age\": 30, \"city\": \"New York\"},\n",
    "    {\"name\": \"Bob\", \"age\": 25, \"city\": \"London\"},\n",
    "    {\"name\": \"Charlie\", \"age\": 35, \"city\": \"Paris\"}\n",
    "]\n",
    "\n",
    "# Sort by 'age' in ascending order\n",
    "sorted_by_age = sort_list_of_dictionaries(data, \"age\")\n",
    "print(f\"Sorted by age (ascending): {sorted_by_age}\")\n",
    "\n",
    "# Sort by 'name' in descending order\n",
    "sorted_by_name_desc = sort_list_of_dictionaries(data, \"name\", reverse=True)\n",
    "print(f\"Sorted by name (descending): {sorted_by_name_desc}\")"
   ]
  },
  {
   "cell_type": "code",
   "execution_count": 2,
   "id": "0d9c7891-0cd1-4e0f-a678-ec3a93fdd150",
   "metadata": {},
   "outputs": [],
   "source": [
    "def sort_dicts_by_key(dict_list, sort_key, reverse=False):\n",
    "    \"\"\"\n",
    "    Sorts a list of dictionaries by a specific key.\n",
    "\n",
    "    Args:\n",
    "        dict_list (list): List of dictionaries to sort.\n",
    "        sort_key (str): The key to sort the dictionaries by.\n",
    "        reverse (bool): If True, sorts in descending order. Default is False.\n",
    "\n",
    "    Returns:\n",
    "        list: A new list of dictionaries sorted by the specified key.\n",
    "    \"\"\"\n",
    "    return sorted(dict_list, key=lambda x: x.get(sort_key, None), reverse=reverse)"
   ]
  },
  {
   "cell_type": "code",
   "execution_count": 3,
   "id": "cb03e291-9aa3-46e4-be0c-911545dfc083",
   "metadata": {},
   "outputs": [
    {
     "name": "stdout",
     "output_type": "stream",
     "text": [
      "[{'name': 'Bob', 'age': 25}, {'name': 'Alice', 'age': 30}, {'name': 'Charlie', 'age': 35}]\n"
     ]
    }
   ],
   "source": [
    "data = [\n",
    "    {'name': 'Alice', 'age': 30},\n",
    "    {'name': 'Bob', 'age': 25},\n",
    "    {'name': 'Charlie', 'age': 35}\n",
    "]\n",
    "\n",
    "sorted_data = sort_dicts_by_key(data, 'age')\n",
    "print(sorted_data)\n",
    "# Output: [{'name': 'Bob', 'age': 25}, {'name': 'Alice', 'age': 30}, {'name': 'Charlie', 'age': 35}]"
   ]
  },
  {
   "cell_type": "code",
   "execution_count": null,
   "id": "0ac60c3e-9a39-405b-bf48-8e5cba611f01",
   "metadata": {},
   "outputs": [],
   "source": [
    "Characteristics of manual:\n",
    "\n",
    "Uses lambda d: d[key_to_sort_by] as the sort key.\n",
    "Assumes every dictionary contains the key key_to_sort_by.\n",
    "Will raise a KeyError if a dictionary is missing the key.\n",
    "\n",
    "Characteristics of codepilot suggested ai:\n",
    "\n",
    "Uses lambda x: x.get(sort_key, None) as the sort key.\n",
    "Handles missing keys gracefully by defaulting to None.\n",
    "No KeyError if a dictionary is missing the sort key.\n",
    "\n",
    "Efficiency Analysis\n",
    "Performance:\n",
    "Both versions use Python’s built-in sorted() with a lambda function as the key. The only difference is the method of accessing the dictionary value:\n",
    "\n",
    "d[key_to_sort_by] (attached code): Direct dictionary access.\n",
    "x.get(sort_key, None) (suggested code): Uses dict.get, which adds a tiny overhead for the method call and default handling.\n",
    "In practice:\n",
    "\n",
    "The direct access d[key_to_sort_by] is marginally faster since it does not check for a default.\n",
    "d.get(key, None) is safer as it avoids KeyError but is infinitesimally slower due to the method call (the difference is negligible for most use cases).\n",
    "Example Timing (for large lists):\n",
    "\n",
    "The difference is typically less than 1% in most real-world scenarios.\n",
    "                                                                                                      \n",
    "Robustness and Usability\n",
    "Manual code is more efficient (faster), but less robust: it breaks if a key is missing.\n",
    "Codepilot code is slightly less efficient (slower by a negligible amount) but more robust: it safely handles missing keys.\n",
    "Conclusion & Recommendation\n",
    "If you are certain every dictionary will always contain the sort key, manual code is marginally more efficient.\n",
    "If there is any chance a dictionary may be missing the sort key, or you want safer code, my version is preferable.\n",
    "\n",
    "Documentation Summary\n",
    "While the output is similar, the benefit of Copilot is evident in speed—it suggested the full implementation instantly after typing the function name. For beginner programmers, this can significantly reduce coding time.\n",
    "However, Copilot lacks context about the broader application. If error handling or custom logic is needed, a human touch is still essential. The manual implementation required deeper understanding and provided learning value.\n",
    "In conclusion, Copilot improves productivity in repetitive or simple tasks, but it’s best used alongside manual coding and review to ensure robustness and correctness.\n",
    "\n",
    "The manual code is marginally more efficient due to direct key access, but lacks robustness as it raises an error for missing keys. The suggested code is slightly less efficient but more robust, safely handling missing keys by using .get(). For most use cases, the performance difference is negligible, so robustness should typically be preferred.                                                                                                      \n",
    "                                                                                                      \n",
    "\n"
   ]
  },
  {
   "cell_type": "code",
   "execution_count": null,
   "id": "26a28ea9-5e5c-4412-9d98-e9814b904b93",
   "metadata": {},
   "outputs": [],
   "source": []
  }
 ],
 "metadata": {
  "kernelspec": {
   "display_name": "anaconda-panel-2023.05-py310",
   "language": "python",
   "name": "conda-env-anaconda-panel-2023.05-py310-py"
  },
  "language_info": {
   "codemirror_mode": {
    "name": "ipython",
    "version": 3
   },
   "file_extension": ".py",
   "mimetype": "text/x-python",
   "name": "python",
   "nbconvert_exporter": "python",
   "pygments_lexer": "ipython3",
   "version": "3.11.5"
  }
 },
 "nbformat": 4,
 "nbformat_minor": 5
}
