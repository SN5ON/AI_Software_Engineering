{
  "nbformat": 4,
  "nbformat_minor": 0,
  "metadata": {
    "colab": {
      "provenance": []
    },
    "kernelspec": {
      "name": "python3",
      "display_name": "Python 3"
    },
    "language_info": {
      "name": "python"
    }
  },
  "cells": [
    {
      "cell_type": "code",
      "execution_count": 2,
      "metadata": {
        "colab": {
          "base_uri": "https://localhost:8080/"
        },
        "id": "jKhMGF-E8eq7",
        "outputId": "3412916d-6210-4377-fb14-fc9892b19a04"
      },
      "outputs": [
        {
          "output_type": "stream",
          "name": "stdout",
          "text": [
            "🔍 Named Entity Recognition:\n",
            "\n",
            "Review: I love the new Apple iPhone 14 – it's fast and sleek!\n",
            " - Apple (ORG)\n",
            "\n",
            "\n",
            "Review: The Samsung TV has stunning colors but the sound is average.\n",
            "\n",
            "\n",
            "Review: Logitech mouse stopped working after two weeks. Very disappointed.\n",
            " - Logitech (ORG)\n",
            " - two weeks (DATE)\n",
            "\n",
            "\n",
            "Review: This Sony camera takes amazing pictures. Worth every penny.\n",
            " - Sony (ORG)\n",
            "\n",
            "\n",
            "Review: The Dell laptop heats up quickly and battery life is poor.\n",
            "\n",
            "\n"
          ]
        }
      ],
      "source": [
        "import spacy\n",
        "nlp = spacy.load(\"en_core_web_sm\")\n",
        "\n",
        "\n",
        "reviews = [\n",
        "    \"I love the new Apple iPhone 14 – it's fast and sleek!\",\n",
        "    \"The Samsung TV has stunning colors but the sound is average.\",\n",
        "    \"Logitech mouse stopped working after two weeks. Very disappointed.\",\n",
        "    \"This Sony camera takes amazing pictures. Worth every penny.\",\n",
        "    \"The Dell laptop heats up quickly and battery life is poor.\"\n",
        "]\n",
        "\n",
        "\n",
        "print(\"🔍 Named Entity Recognition:\\n\")\n",
        "\n",
        "for review in reviews:\n",
        "    doc = nlp(review)\n",
        "    print(f\"Review: {review}\")\n",
        "    for ent in doc.ents:\n",
        "        print(f\" - {ent.text} ({ent.label_})\")\n",
        "    print(\"\\n\")\n",
        "\n",
        "\n"
      ]
    },
    {
      "cell_type": "code",
      "source": [
        "positive_keywords = [\"love\", \"fast\", \"sleek\", \"stunning\", \"amazing\", \"worth\"]\n",
        "negative_keywords = [\"disappointed\", \"poor\", \"average\", \"heats\", \"stopped\"]\n",
        "\n",
        "print(\"🧠 Rule-based Sentiment:\\n\")\n",
        "\n",
        "for review in reviews:\n",
        "    review_lower = review.lower()\n",
        "    sentiment = \"Neutral\"\n",
        "    if any(word in review_lower for word in positive_keywords):\n",
        "        sentiment = \"Positive\"\n",
        "    elif any(word in review_lower for word in negative_keywords):\n",
        "        sentiment = \"Negative\"\n",
        "\n",
        "    print(f\"Review: {review}\\nSentiment: {sentiment}\\n\")\n"
      ],
      "metadata": {
        "colab": {
          "base_uri": "https://localhost:8080/"
        },
        "id": "Lupo7lgx-aZQ",
        "outputId": "46062656-ee07-4fc0-8827-6826cb34149e"
      },
      "execution_count": 3,
      "outputs": [
        {
          "output_type": "stream",
          "name": "stdout",
          "text": [
            "🧠 Rule-based Sentiment:\n",
            "\n",
            "Review: I love the new Apple iPhone 14 – it's fast and sleek!\n",
            "Sentiment: Positive\n",
            "\n",
            "Review: The Samsung TV has stunning colors but the sound is average.\n",
            "Sentiment: Positive\n",
            "\n",
            "Review: Logitech mouse stopped working after two weeks. Very disappointed.\n",
            "Sentiment: Negative\n",
            "\n",
            "Review: This Sony camera takes amazing pictures. Worth every penny.\n",
            "Sentiment: Positive\n",
            "\n",
            "Review: The Dell laptop heats up quickly and battery life is poor.\n",
            "Sentiment: Negative\n",
            "\n"
          ]
        }
      ]
    }
  ]
}